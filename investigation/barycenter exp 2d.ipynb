{
 "cells": [
  {
   "cell_type": "code",
   "execution_count": 55,
   "metadata": {},
   "outputs": [],
   "source": [
    "import numpy as np\n",
    "import pylab as pl\n",
    "import ot\n",
    "import scipy\n",
    "import scipy.stats"
   ]
  },
  {
   "cell_type": "code",
   "execution_count": 56,
   "metadata": {},
   "outputs": [],
   "source": [
    "N = 3\n",
    "d = 2\n",
    "n_i = np.random.randint(low=10, high=20)  # nb samples\n",
    "\n",
    "measures_locations = []\n",
    "measures_weights = []\n",
    "\n",
    "mu_i = np.random.normal(0., 4., (d,))  # Gaussian mean\n",
    "for i in range(N):\n",
    "    \n",
    "    A_i = np.random.rand(d, d)\n",
    "    cov_i = np.dot(A_i, A_i.transpose())  # Gaussian covariance matrix\n",
    "\n",
    "    x_i = ot.datasets.make_2D_samples_gauss(n_i, mu_i, cov_i)  # Dirac locations\n",
    "    b_i = np.random.rand(1, n_i) #(np.array([1]*n_i))\n",
    "    b_i = b_i / np.sum(b_i)\n",
    "    \n",
    "#     if N==2:\n",
    "#         s = np.random.normal(3, 4, 20)\n",
    "#         x_i = [list(a) for a in zip(np.arange(0,1,1/20).tolist(), s.tolist())]\n",
    "    measures_locations.append(x_i)\n",
    "    measures_weights.append(b_i)"
   ]
  },
  {
   "cell_type": "code",
   "execution_count": 57,
   "metadata": {},
   "outputs": [
    {
     "data": {
      "text/plain": [
       "17"
      ]
     },
     "execution_count": 57,
     "metadata": {},
     "output_type": "execute_result"
    }
   ],
   "source": [
    "n_i"
   ]
  },
  {
   "cell_type": "code",
   "execution_count": 58,
   "metadata": {},
   "outputs": [
    {
     "data": {
      "image/png": "[encoded data removed]",
      "text/plain": [
       "<Figure size 432x288 with 1 Axes>"
      ]
     },
     "metadata": {
      "needs_background": "light"
     },
     "output_type": "display_data"
    }
   ],
   "source": [
    "pl.figure(1)\n",
    "for (x_i, b_i) in zip(measures_locations, measures_weights):\n",
    "    color = np.random.randint(low=1, high=10 * N)\n",
    "    pl.scatter(x_i[:, 0], x_i[:, 1], label='input measure')\n",
    "pl.show()"
   ]
  },
  {
   "cell_type": "code",
   "execution_count": 59,
   "metadata": {},
   "outputs": [
    {
     "data": {
      "text/plain": [
       "14"
      ]
     },
     "execution_count": 59,
     "metadata": {},
     "output_type": "execute_result"
    }
   ],
   "source": [
    "len( X_init )"
   ]
  },
  {
   "cell_type": "code",
   "execution_count": 60,
   "metadata": {},
   "outputs": [],
   "source": [
    "k = n_i  # number of Diracs of the barycenter\n",
    "X_init = np.random.normal(0., 4., (k, 2))  # initial Dirac locations\n",
    "b = np.random.rand(1, k) #(np.array([1]*n_i))\n",
    "b = b / np.sum(b)"
   ]
  },
  {
   "cell_type": "code",
   "execution_count": 61,
   "metadata": {},
   "outputs": [
    {
     "data": {
      "text/plain": [
       "array([[0.08381432, 0.04772551, 0.07230138, 0.04794143, 0.07997158,\n",
       "        0.06858311, 0.07487934, 0.05865626, 0.02449484, 0.01817576,\n",
       "        0.08039473, 0.07708003, 0.06550587, 0.03506974, 0.06602672,\n",
       "        0.03519736, 0.06418203]])"
      ]
     },
     "execution_count": 61,
     "metadata": {},
     "output_type": "execute_result"
    }
   ],
   "source": [
    "b"
   ]
  },
  {
   "cell_type": "code",
   "execution_count": null,
   "metadata": {},
   "outputs": [],
   "source": []
  },
  {
   "cell_type": "code",
   "execution_count": 62,
   "metadata": {},
   "outputs": [
    {
     "ename": "ValueError",
     "evalue": "Buffer has wrong number of dimensions (expected 1, got 2)",
     "output_type": "error",
     "traceback": [
      "\u001b[0;31m---------------------------------------------------------------------------\u001b[0m",
      "\u001b[0;31mValueError\u001b[0m                                Traceback (most recent call last)",
      "\u001b[0;32m<ipython-input-62-295144e33818>\u001b[0m in \u001b[0;36m<module>\u001b[0;34m\u001b[0m\n\u001b[0;32m----> 1\u001b[0;31m \u001b[0mX_joint\u001b[0m \u001b[0;34m=\u001b[0m \u001b[0mot\u001b[0m\u001b[0;34m.\u001b[0m\u001b[0mlp\u001b[0m\u001b[0;34m.\u001b[0m\u001b[0mfree_support_barycenter\u001b[0m\u001b[0;34m(\u001b[0m\u001b[0mmeasures_locations\u001b[0m\u001b[0;34m,\u001b[0m \u001b[0mmeasures_weights\u001b[0m\u001b[0;34m,\u001b[0m \u001b[0mX_init\u001b[0m\u001b[0;34m,\u001b[0m \u001b[0mb\u001b[0m\u001b[0;34m)\u001b[0m\u001b[0;34m\u001b[0m\u001b[0m\n\u001b[0m",
      "\u001b[0;32m/Library/Frameworks/Python.framework/Versions/3.7/lib/python3.7/site-packages/ot/lp/__init__.py\u001b[0m in \u001b[0;36mfree_support_barycenter\u001b[0;34m(measures_locations, measures_weights, X_init, b, weights, numItermax, stopThr, verbose, log)\u001b[0m\n\u001b[1;32m    314\u001b[0m \u001b[0;34m\u001b[0m\u001b[0m\n\u001b[1;32m    315\u001b[0m             \u001b[0mM_i\u001b[0m \u001b[0;34m=\u001b[0m \u001b[0mdist\u001b[0m\u001b[0;34m(\u001b[0m\u001b[0mX\u001b[0m\u001b[0;34m,\u001b[0m \u001b[0mmeasure_locations_i\u001b[0m\u001b[0;34m)\u001b[0m\u001b[0;34m\u001b[0m\u001b[0m\n\u001b[0;32m--> 316\u001b[0;31m             \u001b[0mT_i\u001b[0m \u001b[0;34m=\u001b[0m \u001b[0memd\u001b[0m\u001b[0;34m(\u001b[0m\u001b[0mb\u001b[0m\u001b[0;34m,\u001b[0m \u001b[0mmeasure_weights_i\u001b[0m\u001b[0;34m,\u001b[0m \u001b[0mM_i\u001b[0m\u001b[0;34m)\u001b[0m\u001b[0;34m\u001b[0m\u001b[0m\n\u001b[0m\u001b[1;32m    317\u001b[0m             \u001b[0mT_sum\u001b[0m \u001b[0;34m=\u001b[0m \u001b[0mT_sum\u001b[0m \u001b[0;34m+\u001b[0m \u001b[0mweight_i\u001b[0m \u001b[0;34m*\u001b[0m \u001b[0mnp\u001b[0m\u001b[0;34m.\u001b[0m\u001b[0mreshape\u001b[0m\u001b[0;34m(\u001b[0m\u001b[0;36m1.\u001b[0m \u001b[0;34m/\u001b[0m \u001b[0mb\u001b[0m\u001b[0;34m,\u001b[0m \u001b[0;34m(\u001b[0m\u001b[0;34m-\u001b[0m\u001b[0;36m1\u001b[0m\u001b[0;34m,\u001b[0m \u001b[0;36m1\u001b[0m\u001b[0;34m)\u001b[0m\u001b[0;34m)\u001b[0m \u001b[0;34m*\u001b[0m \u001b[0mnp\u001b[0m\u001b[0;34m.\u001b[0m\u001b[0mmatmul\u001b[0m\u001b[0;34m(\u001b[0m\u001b[0mT_i\u001b[0m\u001b[0;34m,\u001b[0m \u001b[0mmeasure_locations_i\u001b[0m\u001b[0;34m)\u001b[0m\u001b[0;34m\u001b[0m\u001b[0m\n\u001b[1;32m    318\u001b[0m \u001b[0;34m\u001b[0m\u001b[0m\n",
      "\u001b[0;32m/Library/Frameworks/Python.framework/Versions/3.7/lib/python3.7/site-packages/ot/lp/__init__.py\u001b[0m in \u001b[0;36memd\u001b[0;34m(a, b, M, numItermax, log)\u001b[0m\n\u001b[1;32m    110\u001b[0m         \u001b[0mb\u001b[0m \u001b[0;34m=\u001b[0m \u001b[0mnp\u001b[0m\u001b[0;34m.\u001b[0m\u001b[0mones\u001b[0m\u001b[0;34m(\u001b[0m\u001b[0;34m(\u001b[0m\u001b[0mM\u001b[0m\u001b[0;34m.\u001b[0m\u001b[0mshape\u001b[0m\u001b[0;34m[\u001b[0m\u001b[0;36m1\u001b[0m\u001b[0;34m]\u001b[0m\u001b[0;34m,\u001b[0m\u001b[0;34m)\u001b[0m\u001b[0;34m,\u001b[0m \u001b[0mdtype\u001b[0m\u001b[0;34m=\u001b[0m\u001b[0mnp\u001b[0m\u001b[0;34m.\u001b[0m\u001b[0mfloat64\u001b[0m\u001b[0;34m)\u001b[0m \u001b[0;34m/\u001b[0m \u001b[0mM\u001b[0m\u001b[0;34m.\u001b[0m\u001b[0mshape\u001b[0m\u001b[0;34m[\u001b[0m\u001b[0;36m1\u001b[0m\u001b[0;34m]\u001b[0m\u001b[0;34m\u001b[0m\u001b[0m\n\u001b[1;32m    111\u001b[0m \u001b[0;34m\u001b[0m\u001b[0m\n\u001b[0;32m--> 112\u001b[0;31m     \u001b[0mG\u001b[0m\u001b[0;34m,\u001b[0m \u001b[0mcost\u001b[0m\u001b[0;34m,\u001b[0m \u001b[0mu\u001b[0m\u001b[0;34m,\u001b[0m \u001b[0mv\u001b[0m\u001b[0;34m,\u001b[0m \u001b[0mresult_code\u001b[0m \u001b[0;34m=\u001b[0m \u001b[0memd_c\u001b[0m\u001b[0;34m(\u001b[0m\u001b[0ma\u001b[0m\u001b[0;34m,\u001b[0m \u001b[0mb\u001b[0m\u001b[0;34m,\u001b[0m \u001b[0mM\u001b[0m\u001b[0;34m,\u001b[0m \u001b[0mnumItermax\u001b[0m\u001b[0;34m)\u001b[0m\u001b[0;34m\u001b[0m\u001b[0m\n\u001b[0m\u001b[1;32m    113\u001b[0m     \u001b[0mresult_code_string\u001b[0m \u001b[0;34m=\u001b[0m \u001b[0mcheck_result\u001b[0m\u001b[0;34m(\u001b[0m\u001b[0mresult_code\u001b[0m\u001b[0;34m)\u001b[0m\u001b[0;34m\u001b[0m\u001b[0m\n\u001b[1;32m    114\u001b[0m     \u001b[0;32mif\u001b[0m \u001b[0mlog\u001b[0m\u001b[0;34m:\u001b[0m\u001b[0;34m\u001b[0m\u001b[0m\n",
      "\u001b[0;32mot/lp/emd_wrap.pyx\u001b[0m in \u001b[0;36mot.lp.emd_wrap.emd_c\u001b[0;34m()\u001b[0m\n",
      "\u001b[0;31mValueError\u001b[0m: Buffer has wrong number of dimensions (expected 1, got 2)"
     ]
    }
   ],
   "source": [
    "X_joint = ot.lp.free_support_barycenter(measures_locations, measures_weights, X_init, b)"
   ]
  },
  {
   "cell_type": "code",
   "execution_count": 19,
   "metadata": {},
   "outputs": [
    {
     "ename": "ValueError",
     "evalue": "Buffer has wrong number of dimensions (expected 1, got 2)",
     "output_type": "error",
     "traceback": [
      "\u001b[0;31m---------------------------------------------------------------------------\u001b[0m",
      "\u001b[0;31mValueError\u001b[0m                                Traceback (most recent call last)",
      "\u001b[0;32m<ipython-input-19-c0e043f5d178>\u001b[0m in \u001b[0;36m<module>\u001b[0;34m\u001b[0m\n\u001b[0;32m----> 1\u001b[0;31m \u001b[0mX_12\u001b[0m \u001b[0;34m=\u001b[0m \u001b[0mot\u001b[0m\u001b[0;34m.\u001b[0m\u001b[0mlp\u001b[0m\u001b[0;34m.\u001b[0m\u001b[0mfree_support_barycenter\u001b[0m\u001b[0;34m(\u001b[0m\u001b[0mmeasures_locations\u001b[0m\u001b[0;34m[\u001b[0m\u001b[0;34m:\u001b[0m\u001b[0;36m2\u001b[0m\u001b[0;34m]\u001b[0m\u001b[0;34m,\u001b[0m \u001b[0mmeasures_weights\u001b[0m\u001b[0;34m[\u001b[0m\u001b[0;34m:\u001b[0m\u001b[0;36m2\u001b[0m\u001b[0;34m]\u001b[0m\u001b[0;34m,\u001b[0m \u001b[0mX_init\u001b[0m\u001b[0;34m,\u001b[0m \u001b[0mweights\u001b[0m\u001b[0;34m=\u001b[0m\u001b[0mnp\u001b[0m\u001b[0;34m.\u001b[0m\u001b[0marray\u001b[0m\u001b[0;34m(\u001b[0m\u001b[0;34m[\u001b[0m\u001b[0;36m1\u001b[0m\u001b[0;34m/\u001b[0m\u001b[0;36m2\u001b[0m\u001b[0;34m,\u001b[0m\u001b[0;36m1\u001b[0m\u001b[0;34m/\u001b[0m\u001b[0;36m2\u001b[0m\u001b[0;34m]\u001b[0m\u001b[0;34m)\u001b[0m\u001b[0;34m)\u001b[0m\u001b[0;34m\u001b[0m\u001b[0m\n\u001b[0m\u001b[1;32m      2\u001b[0m \u001b[0;34m\u001b[0m\u001b[0m\n\u001b[1;32m      3\u001b[0m \u001b[0mmeasures_12_3\u001b[0m \u001b[0;34m=\u001b[0m \u001b[0;34m[\u001b[0m\u001b[0mX_12\u001b[0m\u001b[0;34m,\u001b[0m \u001b[0mmeasures_locations\u001b[0m\u001b[0;34m[\u001b[0m\u001b[0;36m2\u001b[0m\u001b[0;34m]\u001b[0m\u001b[0;34m]\u001b[0m\u001b[0;34m\u001b[0m\u001b[0m\n\u001b[1;32m      4\u001b[0m \u001b[0mweights\u001b[0m \u001b[0;34m=\u001b[0m \u001b[0;34m[\u001b[0m\u001b[0mnp\u001b[0m\u001b[0;34m.\u001b[0m\u001b[0mones\u001b[0m\u001b[0;34m(\u001b[0m\u001b[0mlen\u001b[0m\u001b[0;34m(\u001b[0m\u001b[0mX_12\u001b[0m\u001b[0;34m)\u001b[0m\u001b[0;34m)\u001b[0m\u001b[0;34m/\u001b[0m\u001b[0mlen\u001b[0m\u001b[0;34m(\u001b[0m\u001b[0mX_12\u001b[0m\u001b[0;34m)\u001b[0m\u001b[0;34m,\u001b[0m \u001b[0mnp\u001b[0m\u001b[0;34m.\u001b[0m\u001b[0mones\u001b[0m\u001b[0;34m(\u001b[0m\u001b[0mlen\u001b[0m\u001b[0;34m(\u001b[0m\u001b[0mmeasures_locations\u001b[0m\u001b[0;34m[\u001b[0m\u001b[0;36m2\u001b[0m\u001b[0;34m]\u001b[0m\u001b[0;34m)\u001b[0m\u001b[0;34m)\u001b[0m\u001b[0;34m/\u001b[0m\u001b[0mlen\u001b[0m\u001b[0;34m(\u001b[0m\u001b[0mmeasures_locations\u001b[0m\u001b[0;34m[\u001b[0m\u001b[0;36m2\u001b[0m\u001b[0;34m]\u001b[0m\u001b[0;34m)\u001b[0m\u001b[0;34m]\u001b[0m\u001b[0;34m\u001b[0m\u001b[0m\n\u001b[1;32m      5\u001b[0m \u001b[0msmallest\u001b[0m \u001b[0;34m=\u001b[0m \u001b[0mfloat\u001b[0m\u001b[0;34m(\u001b[0m\u001b[0;34m\"inf\"\u001b[0m\u001b[0;34m)\u001b[0m\u001b[0;34m\u001b[0m\u001b[0m\n",
      "\u001b[0;32m/Library/Frameworks/Python.framework/Versions/3.7/lib/python3.7/site-packages/ot/lp/__init__.py\u001b[0m in \u001b[0;36mfree_support_barycenter\u001b[0;34m(measures_locations, measures_weights, X_init, b, weights, numItermax, stopThr, verbose, log)\u001b[0m\n\u001b[1;32m    314\u001b[0m \u001b[0;34m\u001b[0m\u001b[0m\n\u001b[1;32m    315\u001b[0m             \u001b[0mM_i\u001b[0m \u001b[0;34m=\u001b[0m \u001b[0mdist\u001b[0m\u001b[0;34m(\u001b[0m\u001b[0mX\u001b[0m\u001b[0;34m,\u001b[0m \u001b[0mmeasure_locations_i\u001b[0m\u001b[0;34m)\u001b[0m\u001b[0;34m\u001b[0m\u001b[0m\n\u001b[0;32m--> 316\u001b[0;31m             \u001b[0mT_i\u001b[0m \u001b[0;34m=\u001b[0m \u001b[0memd\u001b[0m\u001b[0;34m(\u001b[0m\u001b[0mb\u001b[0m\u001b[0;34m,\u001b[0m \u001b[0mmeasure_weights_i\u001b[0m\u001b[0;34m,\u001b[0m \u001b[0mM_i\u001b[0m\u001b[0;34m)\u001b[0m\u001b[0;34m\u001b[0m\u001b[0m\n\u001b[0m\u001b[1;32m    317\u001b[0m             \u001b[0mT_sum\u001b[0m \u001b[0;34m=\u001b[0m \u001b[0mT_sum\u001b[0m \u001b[0;34m+\u001b[0m \u001b[0mweight_i\u001b[0m \u001b[0;34m*\u001b[0m \u001b[0mnp\u001b[0m\u001b[0;34m.\u001b[0m\u001b[0mreshape\u001b[0m\u001b[0;34m(\u001b[0m\u001b[0;36m1.\u001b[0m \u001b[0;34m/\u001b[0m \u001b[0mb\u001b[0m\u001b[0;34m,\u001b[0m \u001b[0;34m(\u001b[0m\u001b[0;34m-\u001b[0m\u001b[0;36m1\u001b[0m\u001b[0;34m,\u001b[0m \u001b[0;36m1\u001b[0m\u001b[0;34m)\u001b[0m\u001b[0;34m)\u001b[0m \u001b[0;34m*\u001b[0m \u001b[0mnp\u001b[0m\u001b[0;34m.\u001b[0m\u001b[0mmatmul\u001b[0m\u001b[0;34m(\u001b[0m\u001b[0mT_i\u001b[0m\u001b[0;34m,\u001b[0m \u001b[0mmeasure_locations_i\u001b[0m\u001b[0;34m)\u001b[0m\u001b[0;34m\u001b[0m\u001b[0m\n\u001b[1;32m    318\u001b[0m \u001b[0;34m\u001b[0m\u001b[0m\n",
      "\u001b[0;32m/Library/Frameworks/Python.framework/Versions/3.7/lib/python3.7/site-packages/ot/lp/__init__.py\u001b[0m in \u001b[0;36memd\u001b[0;34m(a, b, M, numItermax, log)\u001b[0m\n\u001b[1;32m    110\u001b[0m         \u001b[0mb\u001b[0m \u001b[0;34m=\u001b[0m \u001b[0mnp\u001b[0m\u001b[0;34m.\u001b[0m\u001b[0mones\u001b[0m\u001b[0;34m(\u001b[0m\u001b[0;34m(\u001b[0m\u001b[0mM\u001b[0m\u001b[0;34m.\u001b[0m\u001b[0mshape\u001b[0m\u001b[0;34m[\u001b[0m\u001b[0;36m1\u001b[0m\u001b[0;34m]\u001b[0m\u001b[0;34m,\u001b[0m\u001b[0;34m)\u001b[0m\u001b[0;34m,\u001b[0m \u001b[0mdtype\u001b[0m\u001b[0;34m=\u001b[0m\u001b[0mnp\u001b[0m\u001b[0;34m.\u001b[0m\u001b[0mfloat64\u001b[0m\u001b[0;34m)\u001b[0m \u001b[0;34m/\u001b[0m \u001b[0mM\u001b[0m\u001b[0;34m.\u001b[0m\u001b[0mshape\u001b[0m\u001b[0;34m[\u001b[0m\u001b[0;36m1\u001b[0m\u001b[0;34m]\u001b[0m\u001b[0;34m\u001b[0m\u001b[0m\n\u001b[1;32m    111\u001b[0m \u001b[0;34m\u001b[0m\u001b[0m\n\u001b[0;32m--> 112\u001b[0;31m     \u001b[0mG\u001b[0m\u001b[0;34m,\u001b[0m \u001b[0mcost\u001b[0m\u001b[0;34m,\u001b[0m \u001b[0mu\u001b[0m\u001b[0;34m,\u001b[0m \u001b[0mv\u001b[0m\u001b[0;34m,\u001b[0m \u001b[0mresult_code\u001b[0m \u001b[0;34m=\u001b[0m \u001b[0memd_c\u001b[0m\u001b[0;34m(\u001b[0m\u001b[0ma\u001b[0m\u001b[0;34m,\u001b[0m \u001b[0mb\u001b[0m\u001b[0;34m,\u001b[0m \u001b[0mM\u001b[0m\u001b[0;34m,\u001b[0m \u001b[0mnumItermax\u001b[0m\u001b[0;34m)\u001b[0m\u001b[0;34m\u001b[0m\u001b[0m\n\u001b[0m\u001b[1;32m    113\u001b[0m     \u001b[0mresult_code_string\u001b[0m \u001b[0;34m=\u001b[0m \u001b[0mcheck_result\u001b[0m\u001b[0;34m(\u001b[0m\u001b[0mresult_code\u001b[0m\u001b[0;34m)\u001b[0m\u001b[0;34m\u001b[0m\u001b[0m\n\u001b[1;32m    114\u001b[0m     \u001b[0;32mif\u001b[0m \u001b[0mlog\u001b[0m\u001b[0;34m:\u001b[0m\u001b[0;34m\u001b[0m\u001b[0m\n",
      "\u001b[0;32mot/lp/emd_wrap.pyx\u001b[0m in \u001b[0;36mot.lp.emd_wrap.emd_c\u001b[0;34m()\u001b[0m\n",
      "\u001b[0;31mValueError\u001b[0m: Buffer has wrong number of dimensions (expected 1, got 2)"
     ]
    }
   ],
   "source": [
    "X_12 = ot.lp.free_support_barycenter(measures_locations[:2], measures_weights[:2], X_init, weights=np.array([1/2,1/2]))\n",
    "\n",
    "measures_12_3 = [X_12, measures_locations[2]]\n",
    "weights = [np.ones(len(X_12))/len(X_12), np.ones(len(measures_locations[2]))/len(measures_locations[2])]\n",
    "smallest = float(\"inf\")\n",
    "smallestBeta = -1\n",
    "dots = []\n",
    "for i in np.arange(0,1,0.001):\n",
    "    X_3 = ot.lp.free_support_barycenter(measures_12_3,\n",
    "                                weights,\n",
    "                                X_init,\n",
    "                                weights=np.array([i, 1-i])\n",
    "                                                                          ,stopThr=10e-8,numItermax=1000)\n",
    "    M = ot.dist(X_3, X_joint)\n",
    "    a,b = np.ones((len(X_3),)) / len(X_3), np.ones((len(X_joint),))/len(X_joint)\n",
    "    G0 = ot.emd(a,b,M)\n",
    "    dist = np.sum(np.multiply(M,G0))\n",
    "    if (dist < smallest):\n",
    "        smallest = dist\n",
    "        smallestBeta = i\n",
    "    dots.append( dist )\n",
    "print(smallestBeta)"
   ]
  },
  {
   "cell_type": "code",
   "execution_count": 53,
   "metadata": {},
   "outputs": [
    {
     "data": {
      "text/plain": [
       "[<matplotlib.lines.Line2D at 0x1169522e8>]"
      ]
     },
     "execution_count": 53,
     "metadata": {},
     "output_type": "execute_result"
    },
    {
     "data": {
      "image/png": "[encoded data removed]",
      "text/plain": [
       "<Figure size 432x288 with 1 Axes>"
      ]
     },
     "metadata": {
      "needs_background": "light"
     },
     "output_type": "display_data"
    }
   ],
   "source": [
    "pl.figure(1)\n",
    "pl.plot(np.arange(0,1,0.001), dots)\n",
    "pl.plot([0,1],[0,0])"
   ]
  },
  {
   "cell_type": "code",
   "execution_count": 54,
   "metadata": {},
   "outputs": [
    {
     "data": {
      "image/png": "[encoded data removed]",
      "text/plain": [
       "<Figure size 432x288 with 1 Axes>"
      ]
     },
     "metadata": {
      "needs_background": "light"
     },
     "output_type": "display_data"
    }
   ],
   "source": [
    "i=smallestBeta\n",
    "X_3 = ot.lp.free_support_barycenter(measures_12_3,\n",
    "                                weights,\n",
    "                                X_init,\n",
    "                                weights=np.array([i, 1-i])\n",
    "                                    ,stopThr=10e-8,numItermax=1000)\n",
    "pl.figure(1)\n",
    "for (x_i, b_i) in zip(measures_locations, measures_weights):\n",
    "    color = np.random.randint(low=1, high=10 * N)\n",
    "    pl.scatter(x_i[:, 0], x_i[:, 1], label='input measure')\n",
    "pl.scatter(X_joint[:, 0], X_joint[:, 1], c='black', marker='^', label='2-Wasserstein barycenter')\n",
    "pl.scatter(X_3[:, 0], X_3[:, 1], c='red', marker='x', label='2-Wasserstein barycenter for 1,2')\n",
    "\n",
    "pl.title('Data measures and their barycenter')\n",
    "pl.show()"
   ]
  },
  {
   "cell_type": "code",
   "execution_count": 55,
   "metadata": {},
   "outputs": [
    {
     "name": "stdout",
     "output_type": "stream",
     "text": [
      "[[ 1.10983124e-01  7.37117819e-02]\n",
      " [ 2.30535824e-03  1.17814911e-02]\n",
      " [ 3.14297403e-01  1.15472500e-01]\n",
      " [-3.15019928e-01 -1.22047824e-01]\n",
      " [ 6.19341492e-04 -1.22939101e-03]\n",
      " [-2.03608622e-01 -2.33325435e-01]\n",
      " [-4.49777702e-04 -1.14921908e-04]\n",
      " [-3.00329217e-03 -4.46003816e-03]\n",
      " [-2.95721474e-04  1.42126106e-04]\n",
      " [-1.09295075e-01  1.88421818e-01]\n",
      " [ 2.86385084e-02  4.66639832e-02]\n",
      " [-1.52096202e-02  1.45629529e-02]\n",
      " [-8.42414018e-04  5.22881050e-04]\n",
      " [ 5.65443349e-03  2.66855746e-02]\n",
      " [ 1.91472596e-02  1.61100762e-01]\n",
      " [-3.43277564e-04  1.93694456e-04]\n",
      " [ 2.26170753e-02 -7.01751519e-02]\n",
      " [ 3.94259149e-04 -7.69500917e-04]\n",
      " [-1.48148191e-01 -2.20233638e-01]\n",
      " [-1.06940839e-03 -4.40964125e-06]\n",
      " [-1.08010957e-04 -5.34909557e-04]\n",
      " [-7.63008179e-04 -3.13918213e-04]\n",
      " [-6.23673042e-04 -7.56052674e-04]\n",
      " [ 2.60331837e-01  6.76104512e-02]\n",
      " [ 2.51189638e-02 -7.26236220e-02]]\n"
     ]
    }
   ],
   "source": [
    "print(X_3 - X_joint)\n"
   ]
  },
  {
   "cell_type": "code",
   "execution_count": 65,
   "metadata": {},
   "outputs": [
    {
     "name": "stdout",
     "output_type": "stream",
     "text": [
      "[[0 0 0]\n",
      " [0 0 3]\n",
      " [3 0 0]]\n"
     ]
    }
   ],
   "source": [
    "def apply_map_to_mtx(T, M, N):\n",
    "    \"\"\"\n",
    "    T moves from M to N\n",
    "    \"\"\"\n",
    "    A = M - N\n",
    "    ret = []\n",
    "    for i in range(len(T)):\n",
    "        cur = T[0][0]*M[0]\n",
    "        for j in range(1, len(T[0])):\n",
    "            cur += T[i][j] * (A[j])\n",
    "        ret.append(cur)\n",
    "    return ret\n",
    "\n",
    "T = np.array([[1,0,0], [0,0,1], [0,1,0]])\n",
    "M = np.array([[0,0,0], [3,0,0], [0,0,3]])\n",
    "N = np.array([[0,0,0], [0,0,3], [3,0,0]])\n",
    "bb = apply_map_to_mtx(T,M,N) + M\n",
    "\n",
    "print(bb)"
   ]
  },
  {
   "cell_type": "code",
   "execution_count": 73,
   "metadata": {},
   "outputs": [
    {
     "data": {
      "image/png": "[encoded data removed]",
      "text/plain": [
       "<Figure size 432x288 with 1 Axes>"
      ]
     },
     "metadata": {
      "needs_background": "light"
     },
     "output_type": "display_data"
    },
    {
     "data": {
      "image/png": "[encoded data removed]",
      "text/plain": [
       "<Figure size 432x288 with 1 Axes>"
      ]
     },
     "metadata": {
      "needs_background": "light"
     },
     "output_type": "display_data"
    }
   ],
   "source": [
    "import scipy as sp\n",
    "x0 = measures_locations[0]\n",
    "x1 = measures_locations[1]\n",
    "\n",
    "\n",
    "p0 = np.array([1/len(x0)] * len(x0))\n",
    "p1 = np.array([1/len(x1)] * len(x1))\n",
    "\n",
    "measures_locations = [x0, x1]\n",
    "measures_weights = [p0, p1]\n",
    "\n",
    "\n",
    "\n",
    "k = len(x0)  # number of Diracs of the barycenter\n",
    "d = 2\n",
    "X_init = np.random.normal(0., 1., (k, d))  # initial Dirac locations\n",
    "X_joint = ot.lp.free_support_barycenter(measures_locations, measures_weights, X_init, weights=np.array([1/2,1/2]))\n",
    "\n",
    "pl.figure(1)\n",
    "for (x_i, b_i) in zip(measures_locations, measures_weights ):\n",
    "    color = np.random.randint(low=1, high=10)\n",
    "    pl.scatter(x_i[:, 0], x_i[:, 1], label='input measure')\n",
    "pl.scatter(X_joint[:, 0], X_joint[:, 1], marker='^')\n",
    "pl.show()\n",
    "\n",
    "dist = sp.spatial.distance.cdist(x0, x1)\n",
    "a = ot.bregman.sinkhorn(p0, p1, dist, 0.1) # map from de to bar_de_fr\n",
    "\n",
    "\n",
    "\n",
    "np.exp(np.dot(np.log(a), weights.T))\n",
    "\n",
    "pl.figure(1)\n",
    "\n",
    "pl.scatter(x0[:, 0], x0[:, 1], marker='^')\n",
    "pl.scatter(ccc[:, 0], ccc[:, 1], marker='^')\n",
    "\n",
    "pl.show()\n"
   ]
  },
  {
   "cell_type": "code",
   "execution_count": 69,
   "metadata": {},
   "outputs": [
    {
     "data": {
      "text/plain": [
       "array([[5.01450233e-01, 9.35010742e-06, 5.39143706e-12, 1.30593199e-13,\n",
       "        1.04049094e-02, 3.99063656e-09, 5.53987825e-14, 7.38158080e-09,\n",
       "        2.16583621e-06, 1.93142188e-05, 1.39319140e-02, 8.10957122e-13,\n",
       "        1.26436403e-02],\n",
       "       [8.44662877e-03, 5.08245308e-01, 3.26437954e-07, 7.47486113e-09,\n",
       "        1.65416579e-03, 2.07770225e-04, 2.62366799e-09, 2.78010360e-04,\n",
       "        8.89359711e-03, 9.59684600e-03, 7.85964204e-07, 4.13678040e-08,\n",
       "        1.13804794e-03],\n",
       "       [3.59873233e-03, 3.64356678e-03, 5.00138254e-01, 2.83960211e-06,\n",
       "        7.22922712e-04, 1.44525252e-02, 8.74732195e-07, 6.65928493e-03,\n",
       "        5.03157045e-03, 3.69437282e-03, 2.77316342e-07, 1.18093848e-05,\n",
       "        5.04507969e-04],\n",
       "       [1.77948806e-03, 4.60915955e-04, 5.92678217e-03, 5.10014696e-01,\n",
       "        4.81496146e-04, 2.74827002e-03, 1.34123529e-02, 1.10733793e-03,\n",
       "        6.16275248e-04, 4.89576172e-04, 1.75638025e-07, 1.06425697e-03,\n",
       "        3.59915419e-04],\n",
       "       [3.01520115e-05, 7.72495393e-05, 3.52603663e-03, 1.13587002e-02,\n",
       "        5.00005961e-01, 1.16120806e-04, 3.66101134e-03, 4.86206450e-04,\n",
       "        1.08649802e-04, 7.03389536e-05, 2.49364807e-09, 1.90169667e-02,\n",
       "        4.14204511e-06],\n",
       "       [1.87674467e-03, 9.52183819e-05, 3.44926373e-11, 1.24996990e-12,\n",
       "        6.69367777e-03, 5.00000016e-01, 9.51827354e-13, 7.01847522e-08,\n",
       "        2.00929045e-05, 1.81795539e-04, 2.24904318e-02, 8.70226576e-12,\n",
       "        7.10349097e-03],\n",
       "       [2.40461772e-04, 9.53574265e-05, 2.67744877e-03, 1.34364944e-02,\n",
       "        6.04124765e-05, 5.32162782e-04, 5.20024683e-01, 3.10324332e-04,\n",
       "        1.31471111e-04, 9.78406497e-05, 2.10920972e-08, 8.10367266e-04,\n",
       "        4.44933394e-05],\n",
       "       [6.52325280e-03, 4.23836363e-04, 1.55346767e-10, 5.15942275e-12,\n",
       "        1.46782255e-02, 7.59540635e-08, 3.24923357e-12, 5.00000303e-01,\n",
       "        8.97674910e-05, 8.22243817e-04, 2.02852457e-03, 3.54684558e-11,\n",
       "        1.38953085e-02],\n",
       "       [1.91345614e-04, 5.78852619e-04, 1.12684068e-02, 3.00484887e-03,\n",
       "        3.74860347e-05, 6.55403076e-04, 1.10732724e-03, 3.65340987e-03,\n",
       "        5.00809769e-01, 5.24196182e-04, 1.68659694e-08, 1.66045415e-02,\n",
       "        2.59347319e-05],\n",
       "       [2.20857552e-03, 1.96355000e-03, 1.21548577e-02, 3.34213832e-04,\n",
       "        4.64437691e-04, 8.54142780e-03, 1.00592039e-04, 6.97502985e-03,\n",
       "        2.76116618e-03, 5.01949284e-01, 1.65158472e-07, 6.80007635e-04,\n",
       "        3.28230978e-04],\n",
       "       [7.36291265e-04, 6.85923797e-03, 8.91844480e-05, 1.40217405e-05,\n",
       "        1.54320417e-04, 3.85800538e-04, 1.23878049e-05, 1.59908571e-02,\n",
       "        8.07273990e-03, 5.94769736e-03, 5.00000134e-01, 9.27263921e-05,\n",
       "        1.06139384e-04],\n",
       "       [1.04569659e-02, 1.89551834e-03, 2.68339547e-03, 3.00964435e-04,\n",
       "        2.84935695e-03, 1.08050533e-02, 1.47545534e-04, 2.50176214e-03,\n",
       "        2.39734298e-03, 2.10995787e-03, 1.03036889e-06, 5.00185799e-01,\n",
       "        2.12684611e-03],\n",
       "       [9.20983807e-04, 1.41135439e-02, 2.86070450e-07, 2.23601567e-08,\n",
       "        2.48524337e-04, 1.76319887e-05, 2.14727635e-08, 5.00112182e-04,\n",
       "        9.52707074e-03, 1.29579117e-02, 4.74248982e-07, 1.53036089e-07,\n",
       "        5.00174803e-01]])"
      ]
     },
     "execution_count": 69,
     "metadata": {},
     "output_type": "execute_result"
    }
   ],
   "source": []
  },
  {
   "cell_type": "code",
   "execution_count": null,
   "metadata": {},
   "outputs": [],
   "source": []
  }
 ],
 "metadata": {
  "kernelspec": {
   "display_name": "Python 3",
   "language": "python",
   "name": "python3"
  },
  "language_info": {
   "codemirror_mode": {
    "name": "ipython",
    "version": 3
   },
   "file_extension": ".py",
   "mimetype": "text/x-python",
   "name": "python",
   "nbconvert_exporter": "python",
   "pygments_lexer": "ipython3",
   "version": "3.7.0"
  }
 },
 "nbformat": 4,
 "nbformat_minor": 2
}
